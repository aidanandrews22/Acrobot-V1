{
 "cells": [
  {
   "cell_type": "markdown",
   "metadata": {
    "cell_id": "8ec100367dbd493b8d5748bee466210d",
    "deepnote_cell_type": "markdown"
   },
   "source": [
    "This notebook provides examples to go along with the [textbook](https://underactuated.csail.mit.edu/acrobot.html).  I recommend having both windows open, side-by-side!\n"
   ]
  },
  {
   "cell_type": "code",
   "execution_count": 1,
   "metadata": {
    "cell_id": "53861deff57e4d6da51e06a4b7933858",
    "deepnote_cell_type": "code"
   },
   "outputs": [],
   "source": [
    "import numpy as np\n",
    "from pydrake.all import (\n",
    "    AddMultibodyPlantSceneGraph,\n",
    "    ControllabilityMatrix,\n",
    "    DiagramBuilder,\n",
    "    LeafSystem,\n",
    "    Linearize,\n",
    "    LinearQuadraticRegulator,\n",
    "    MeshcatVisualizer,\n",
    "    Parser,\n",
    "    Simulator,\n",
    "    StartMeshcat,\n",
    ")\n",
    "\n",
    "from underactuated import ConfigureParser, running_as_notebook\n",
    "from underactuated.meshcat_utils import MeshcatSliders"
   ]
  },
  {
   "cell_type": "code",
   "execution_count": 2,
   "metadata": {
    "cell_id": "e74c9978fca244e2ae75946632f23521",
    "deepnote_cell_type": "code"
   },
   "outputs": [
    {
     "name": "stderr",
     "output_type": "stream",
     "text": [
      "INFO:drake:Meshcat listening for connections at http://localhost:7002\n"
     ]
    }
   ],
   "source": [
    "# Start the visualizer (run this cell only once, each instance consumes a port)\n",
    "meshcat = StartMeshcat()"
   ]
  },
  {
   "cell_type": "markdown",
   "metadata": {
    "cell_id": "1c880f091f7344a2a7750f7292e265d8",
    "deepnote_cell_type": "markdown"
   },
   "source": [
    "# Dynamics of the Cart-Pole"
   ]
  },
  {
   "cell_type": "code",
   "execution_count": 3,
   "metadata": {
    "cell_id": "72cdb9eb1eb3489585adf00b5f78d73c",
    "deepnote_cell_type": "code"
   },
   "outputs": [
    {
     "name": "stdout",
     "output_type": "stream",
     "text": [
      "Use the slider in the MeshCat controls to apply force to the cart.\n",
      "Press 'Stop Simulation' in MeshCat to continue.\n"
     ]
    }
   ],
   "source": [
    "# TODO(russt): Generalize this to a generic gamepad system.\n",
    "\n",
    "\n",
    "class GamepadTeleop(LeafSystem):\n",
    "    def __init__(self, meshcat):\n",
    "        LeafSystem.__init__(self)\n",
    "        self._meshcat = meshcat\n",
    "        port = self.DeclareVectorOutputPort(\"left_stick_x\", 1, self.OutputLeftStick)\n",
    "        # The gamepad has undeclared state.  For now, we accept it,\n",
    "        # and simply disable caching on the output port.\n",
    "        port.disable_caching_by_default()\n",
    "\n",
    "    def CreateStickDeadzone(self, x, y):\n",
    "        stick = np.array([x, y])\n",
    "        deadzone = 0.3\n",
    "        m = np.linalg.norm(stick)\n",
    "        if m < deadzone:\n",
    "            return np.array([0, 0])\n",
    "        over = (m - deadzone) / (1 - deadzone)\n",
    "        return stick * over / m\n",
    "\n",
    "    def OutputLeftStick(self, context, output):\n",
    "        gamepad = self._meshcat.GetGamepad()\n",
    "\n",
    "        # https://beej.us/blog/data/javascript-gamepad/\n",
    "\n",
    "        left = self.CreateStickDeadzone(gamepad.axes[0], gamepad.axes[1])\n",
    "        output[0] = 10 * left[0]\n",
    "\n",
    "\n",
    "def cartpole_demo():\n",
    "    builder = DiagramBuilder()\n",
    "    plant, scene_graph = AddMultibodyPlantSceneGraph(builder, time_step=0.0)\n",
    "    parser = Parser(plant)\n",
    "    ConfigureParser(parser)\n",
    "    parser.AddModelsFromUrl(\"package://underactuated/models/cartpole.urdf\")\n",
    "    plant.Finalize()\n",
    "\n",
    "    meshcat.Delete()\n",
    "    meshcat.Set2dRenderMode(xmin=-2.5, xmax=2.5, ymin=-1.0, ymax=2.5)\n",
    "    MeshcatVisualizer.AddToBuilder(builder, scene_graph, meshcat)\n",
    "\n",
    "    if meshcat.GetGamepad().index != None:\n",
    "        print(\"Gamepad teleop enabled. Use the left stick to apply force to the cart.\")\n",
    "        gamepad_teleop = builder.AddSystem(GamepadTeleop(meshcat))\n",
    "        builder.Connect(\n",
    "            gamepad_teleop.get_output_port(), plant.get_actuation_input_port()\n",
    "        )\n",
    "    else:\n",
    "        print(\"Use the slider in the MeshCat controls to apply force to the cart.\")\n",
    "        meshcat.AddSlider(\n",
    "            \"u\",\n",
    "            min=-5,\n",
    "            max=5,\n",
    "            step=0.1,\n",
    "            value=0.0,\n",
    "            decrement_keycode=\"ArrowLeft\",\n",
    "            increment_keycode=\"ArrowRight\",\n",
    "        )\n",
    "        force_system = builder.AddSystem(MeshcatSliders(meshcat, [\"u\"]))\n",
    "        builder.Connect(\n",
    "            force_system.get_output_port(), plant.get_actuation_input_port()\n",
    "        )\n",
    "\n",
    "    diagram = builder.Build()\n",
    "\n",
    "    # Set up a simulator to run this diagram\n",
    "    simulator = Simulator(diagram)\n",
    "    context = simulator.get_mutable_context()\n",
    "\n",
    "    # Set the initial conditions (x, theta, xdot, thetadot)\n",
    "    context.SetContinuousState([0, 1, 0, 0])\n",
    "\n",
    "    if running_as_notebook:  # Then we're not just running as a test on CI.\n",
    "        simulator.set_target_realtime_rate(1.0)\n",
    "\n",
    "        print(\"Press 'Stop Simulation' in MeshCat to continue.\")\n",
    "        meshcat.AddButton(\"Stop Simulation\", \"Escape\")\n",
    "        while meshcat.GetButtonClicks(\"Stop Simulation\") < 1:\n",
    "            simulator.AdvanceTo(simulator.get_context().get_time() + 1.0)\n",
    "    else:\n",
    "        simulator.AdvanceTo(0.1)\n",
    "\n",
    "    meshcat.DeleteAddedControls()\n",
    "\n",
    "\n",
    "cartpole_demo()"
   ]
  },
  {
   "cell_type": "markdown",
   "metadata": {
    "cell_id": "ba737ad0d1644454abe4cce3c40df9bb",
    "deepnote_cell_type": "markdown"
   },
   "source": [
    "# LQR for the Cart-Pole"
   ]
  },
  {
   "cell_type": "code",
   "execution_count": 4,
   "metadata": {
    "cell_id": "32bd43433ff0441f8cfbfd87d88b4ba2",
    "deepnote_cell_type": "code"
   },
   "outputs": [],
   "source": [
    "def cartpole_balancing_example():\n",
    "    def UprightState():\n",
    "        state = (0, np.pi, 0, 0)\n",
    "        return state\n",
    "\n",
    "    def Controllability(plant):\n",
    "        context = plant.CreateDefaultContext()\n",
    "        plant.get_actuation_input_port().FixValue(context, [0])\n",
    "        plant.SetPositionsAndVelocities(context, UprightState())\n",
    "\n",
    "        linearized_plant = Linearize(\n",
    "            plant,\n",
    "            context,\n",
    "            input_port_index=plant.get_actuation_input_port().get_index(),\n",
    "            output_port_index=plant.get_state_output_port().get_index(),\n",
    "        )\n",
    "        print(linearized_plant.A())\n",
    "        print(linearized_plant.B())\n",
    "        print(\n",
    "            f\"The singular values of the controllability matrix are: {np.linalg.svd(ControllabilityMatrix(linearized_plant), compute_uv=False)}\"\n",
    "        )\n",
    "\n",
    "    def BalancingLQR(plant):\n",
    "        # Design an LQR controller for stabilizing the CartPole around the upright.\n",
    "        # Returns a (static) AffineSystem that implements the controller (in\n",
    "        # the original CartPole coordinates).\n",
    "\n",
    "        context = plant.CreateDefaultContext()\n",
    "        plant.get_actuation_input_port().FixValue(context, [0])\n",
    "\n",
    "        plant.SetPositionsAndVelocities(context, UprightState())\n",
    "\n",
    "        Q = np.diag((10.0, 10.0, 1.0, 1.0))\n",
    "        R = np.array([1])\n",
    "\n",
    "        # MultibodyPlant has many (optional) input ports, so we must pass the\n",
    "        # input_port_index to LQR.\n",
    "        return LinearQuadraticRegulator(\n",
    "            plant,\n",
    "            context,\n",
    "            Q,\n",
    "            R,\n",
    "            input_port_index=plant.get_actuation_input_port().get_index(),\n",
    "        )\n",
    "\n",
    "    builder = DiagramBuilder()\n",
    "    plant, scene_graph = AddMultibodyPlantSceneGraph(builder, time_step=0)\n",
    "    parser = Parser(plant)\n",
    "    ConfigureParser(parser)\n",
    "    parser.AddModelsFromUrl(\"package://underactuated/models/cartpole.urdf\")\n",
    "    plant.Finalize()\n",
    "\n",
    "    controller = builder.AddSystem(BalancingLQR(plant))\n",
    "    builder.Connect(plant.get_state_output_port(), controller.get_input_port(0))\n",
    "    builder.Connect(controller.get_output_port(0), plant.get_actuation_input_port())\n",
    "\n",
    "    # Setup visualization\n",
    "    meshcat.Delete()\n",
    "    meshcat.Set2dRenderMode(xmin=-2.5, xmax=2.5, ymin=-1.0, ymax=2.5)\n",
    "    MeshcatVisualizer.AddToBuilder(builder, scene_graph, meshcat)\n",
    "\n",
    "    diagram = builder.Build()\n",
    "\n",
    "    # Set up a simulator to run this diagram\n",
    "    simulator = Simulator(diagram)\n",
    "    context = simulator.get_mutable_context()\n",
    "    plant_context = plant.GetMyMutableContextFromRoot(context)\n",
    "\n",
    "    # Simulate\n",
    "    simulator.set_target_realtime_rate(1.0 if running_as_notebook else 0.0)\n",
    "    duration = 5.0 if running_as_notebook else 0.1\n",
    "    for i in range(5):\n",
    "        context.SetTime(0.0)\n",
    "        plant.SetPositionsAndVelocities(\n",
    "            plant_context,\n",
    "            UprightState()\n",
    "            + 0.1\n",
    "            * np.random.randn(\n",
    "                4,\n",
    "            ),\n",
    "        )\n",
    "        simulator.Initialize()\n",
    "        simulator.AdvanceTo(duration)\n",
    "\n",
    "\n",
    "np.set_printoptions(formatter={\"float\": lambda x: \"{0:0.4f}\".format(x)})\n",
    "cartpole_balancing_example()"
   ]
  },
  {
   "cell_type": "code",
   "execution_count": null,
   "metadata": {
    "cell_id": "08c98888925e487c81eccd73c01d6d5b",
    "deepnote_cell_type": "code"
   },
   "outputs": [],
   "source": []
  }
 ],
 "metadata": {
  "deepnote_notebook_id": "25a3e85ac9c1410f9ad013be2e3664fa",
  "kernelspec": {
   "display_name": "berk",
   "language": "python",
   "name": "python3"
  },
  "language_info": {
   "codemirror_mode": {
    "name": "ipython",
    "version": 3
   },
   "file_extension": ".py",
   "mimetype": "text/x-python",
   "name": "python",
   "nbconvert_exporter": "python",
   "pygments_lexer": "ipython3",
   "version": "3.12.8"
  }
 },
 "nbformat": "4",
 "nbformat_minor": "0"
}
